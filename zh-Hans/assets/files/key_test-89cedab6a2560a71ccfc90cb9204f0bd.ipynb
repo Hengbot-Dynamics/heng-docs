{
 "cells": [
  {
   "metadata": {},
   "cell_type": "markdown",
   "source": "# Sparky遥控功能测试",
   "id": "e3815222c03d2597"
  },
  {
   "metadata": {},
   "cell_type": "markdown",
   "source": "## 1、导入工具包",
   "id": "4eba6447307ac9d5"
  },
  {
   "metadata": {
    "ExecuteTime": {
     "end_time": "2024-06-27T02:35:06.192248Z",
     "start_time": "2024-06-27T02:35:06.163254Z"
    }
   },
   "cell_type": "code",
   "source": [
    "import websocket\n",
    "import json"
   ],
   "id": "354c0739b5320f30",
   "outputs": [],
   "execution_count": 1
  },
  {
   "metadata": {},
   "cell_type": "markdown",
   "source": "## 2、建立WebSocket连接",
   "id": "19dec46d3137faf4"
  },
  {
   "metadata": {
    "ExecuteTime": {
     "end_time": "2024-06-27T02:35:06.997848Z",
     "start_time": "2024-06-27T02:35:06.966855Z"
    }
   },
   "cell_type": "code",
   "source": [
    "ws = websocket.WebSocket()\n",
    "ws.connect(\"ws://192.168.8.18:10710/getjson\")\n",
    "ws.getstatus()"
   ],
   "id": "d5e734ebcb8b776b",
   "outputs": [
    {
     "data": {
      "text/plain": [
       "101"
      ]
     },
     "execution_count": 2,
     "metadata": {},
     "output_type": "execute_result"
    }
   ],
   "execution_count": 2
  },
  {
   "metadata": {},
   "cell_type": "markdown",
   "source": "## 3、切换到遥控模式",
   "id": "671c19bc52a208bb"
  },
  {
   "metadata": {
    "ExecuteTime": {
     "end_time": "2024-06-27T02:35:08.315570Z",
     "start_time": "2024-06-27T02:35:08.307563Z"
    }
   },
   "cell_type": "code",
   "source": [
    "# 方法1：不序列化直接发送，需要压缩json字符串使其在同一行\n",
    "ws.send('{\"cmd\":\"Mode_Switch\",\"target\":\"Remote_Control_Mode\"}')"
   ],
   "id": "c8d55f528dc92ca",
   "outputs": [
    {
     "data": {
      "text/plain": [
       "58"
      ]
     },
     "execution_count": 3,
     "metadata": {},
     "output_type": "execute_result"
    }
   ],
   "execution_count": 3
  },
  {
   "metadata": {},
   "cell_type": "markdown",
   "source": "## 4、填充遥控数据模板",
   "id": "e7392d42882b4150"
  },
  {
   "metadata": {
    "ExecuteTime": {
     "end_time": "2024-06-27T02:35:09.585069Z",
     "start_time": "2024-06-27T02:35:09.571068Z"
    }
   },
   "cell_type": "code",
   "source": [
    "data_template = {\n",
    "    \"cmd\": \"Control_Move\",\n",
    "    \"movex\": 0,\n",
    "    \"movey\": 0,\n",
    "    \"movew\": 0,\n",
    "    \"moveh\": 0,\n",
    "    \"tranx\": 0,\n",
    "    \"trany\": 0,\n",
    "    \"tranz\": 0,\n",
    "    \"roll\": 0,\n",
    "    \"pitch\": 0,\n",
    "    \"yaw\": 0,\n",
    "    \"headpitch\": 0,\n",
    "    \"headyaw\": 0,\n",
    "    \"speed\": \"fast\"\n",
    "}"
   ],
   "id": "e392e557a522c3c8",
   "outputs": [],
   "execution_count": 4
  },
  {
   "metadata": {},
   "cell_type": "markdown",
   "source": "## 5、修改数据项目(使其全速右转)",
   "id": "ef83304fa3689ac6"
  },
  {
   "metadata": {
    "ExecuteTime": {
     "end_time": "2024-06-27T02:35:10.968625Z",
     "start_time": "2024-06-27T02:35:10.962623Z"
    }
   },
   "cell_type": "code",
   "source": [
    "data = data_template.copy()\n",
    "# 全速旋转\n",
    "data[\"movew\"] = 1"
   ],
   "id": "6e46251c8a255cb8",
   "outputs": [],
   "execution_count": 5
  },
  {
   "metadata": {},
   "cell_type": "markdown",
   "source": "## 6、发送遥控数据",
   "id": "94b75097a4fff5e9"
  },
  {
   "metadata": {
    "ExecuteTime": {
     "end_time": "2024-06-27T02:35:31.674627Z",
     "start_time": "2024-06-27T02:35:31.661630Z"
    }
   },
   "cell_type": "code",
   "source": "ws.send(json.dumps(data))",
   "id": "c45ca30cece722d7",
   "outputs": [
    {
     "data": {
      "text/plain": [
       "195"
      ]
     },
     "execution_count": 7,
     "metadata": {},
     "output_type": "execute_result"
    }
   ],
   "execution_count": 7
  },
  {
   "metadata": {},
   "cell_type": "markdown",
   "source": "## 7、发送模板数据使其停止转动",
   "id": "b14aca1db42cdf60"
  },
  {
   "metadata": {
    "ExecuteTime": {
     "end_time": "2024-06-27T02:35:32.892803Z",
     "start_time": "2024-06-27T02:35:32.876351Z"
    }
   },
   "cell_type": "code",
   "source": "ws.send(json.dumps(data_template))",
   "id": "b8ebcba4dde6c38b",
   "outputs": [
    {
     "data": {
      "text/plain": [
       "195"
      ]
     },
     "execution_count": 8,
     "metadata": {},
     "output_type": "execute_result"
    }
   ],
   "execution_count": 8
  },
  {
   "metadata": {},
   "cell_type": "code",
   "outputs": [],
   "execution_count": null,
   "source": "",
   "id": "c22a6b35e445d9fb"
  }
 ],
 "metadata": {
  "kernelspec": {
   "display_name": "Python 3",
   "language": "python",
   "name": "python3"
  },
  "language_info": {
   "codemirror_mode": {
    "name": "ipython",
    "version": 2
   },
   "file_extension": ".py",
   "mimetype": "text/x-python",
   "name": "python",
   "nbconvert_exporter": "python",
   "pygments_lexer": "ipython2",
   "version": "2.7.6"
  }
 },
 "nbformat": 4,
 "nbformat_minor": 5
}
